{
  "nbformat": 4,
  "nbformat_minor": 0,
  "metadata": {
    "colab": {
      "provenance": [],
      "mount_file_id": "15yve19dFa1dOM9T2C25-UYZP0e0tkFFa",
      "authorship_tag": "ABX9TyNwfzE734xq4p1q9UXx1seo",
      "include_colab_link": true
    },
    "kernelspec": {
      "name": "python3",
      "display_name": "Python 3"
    },
    "language_info": {
      "name": "python"
    }
  },
  "cells": [
    {
      "cell_type": "markdown",
      "metadata": {
        "id": "view-in-github",
        "colab_type": "text"
      },
      "source": [
        "<a href=\"https://colab.research.google.com/github/KatiaArruda/Machine-learning-numerical-problem/blob/main/Rede_neural.ipynb\" target=\"_parent\"><img src=\"https://colab.research.google.com/assets/colab-badge.svg\" alt=\"Open In Colab\"/></a>"
      ]
    },
    {
      "cell_type": "code",
      "source": [
        "import numpy as np\n",
        "import torch\n",
        "import torch.nn.functional as F\n",
        "import torchvision\n",
        "import matplotlib.pyplot as plt\n",
        "from time import time\n",
        "from torchvision import datasets, transforms\n",
        "from torch import nn, optim\n"
      ],
      "metadata": {
        "id": "pq63W1223Ape"
      },
      "execution_count": null,
      "outputs": []
    },
    {
      "cell_type": "code",
      "source": [
        "#definindo a conversão de imagens para tensor\n",
        "\n",
        "transform = transforms.ToTensor()\n",
        "\n",
        "trainset = datasets.MNIST('./MNIST_data/', download=True, train=True, transform=transform) #Carregar a parte de treino do dataset\n",
        "trainloader = torch.utils.data.DataLoader(trainset, batch_size=64, shuffle=True) #Cria um buffer para pegar os dados por partes\n",
        "\n",
        "valset = datasets.MNIST('./MNIST_data/', download=True, train=False,transform=transform) #carregar a parte de validação\n",
        "valloader = torch.utils.data.DataLoader(valset, batch_size=64, shuffle=True) #Cria um buffer para pegar os dados por partes\n",
        "\n"
      ],
      "metadata": {
        "id": "OUN1FSaq5mSj"
      },
      "execution_count": null,
      "outputs": []
    },
    {
      "cell_type": "code",
      "source": [],
      "metadata": {
        "id": "TJBF7Lm-Zyrj"
      },
      "execution_count": null,
      "outputs": []
    },
    {
      "cell_type": "code",
      "source": [
        "dataiter = iter(trainloader)\n",
        "imagens, etiquetas = next(dataiter)\n",
        "plt.imshow(imagens[0].numpy().squeeze(), cmap='gray_r');\n"
      ],
      "metadata": {
        "id": "dZHBmdk_kMNe"
      },
      "execution_count": null,
      "outputs": []
    },
    {
      "cell_type": "code",
      "source": [
        "print(imagens[0].shape) #para verificar as dimensões do tensor de cada imagem\n",
        "print(etiquetas[0].shape)#para verificar as dimensões do tensor de cada etiqueta"
      ],
      "metadata": {
        "id": "horniOiVrtO9"
      },
      "execution_count": null,
      "outputs": []
    },
    {
      "cell_type": "code",
      "source": [
        "from typing_extensions import Self\n",
        "class Modelo(nn.Module):\n",
        "    def __init__(self):\n",
        "      super(Modelo, self).__init__()\n",
        "      self.linear1= nn.Linear(28*28, 128) #camada de entrada, 784 neurônios que se ligam a 128\n",
        "      self.linear2= nn.Linear(128, 64) #camada interna 1, 128  neurônios que se ligam a 64\n",
        "      self.linear3= nn.Linear(64, 10) #camada interna 2, 64  neurônios que se ligam 10\n",
        "      # para a camada de saida não é necessário definir nada pois só precisamos pegar o output da camada interna 2\n",
        "\n",
        "    def forward(self, X):\n",
        "        X = F.relu(self.linear1(X))#função de ativação da camada de entrada para a camada interna 1\n",
        "        X = F.relu(self.linear2(X))#função de ativação da camada interna 1 para a camada interna 2\n",
        "        X = F.relu(self.linear3(X))#função de ativação da camada interna 2 para a camada de saída, nesse caso f(x)=x\n",
        "        return F.log_softmax(X,dim=1) #dados utilizados para calcular a perda\n"
      ],
      "metadata": {
        "id": "8z3G3uXsxoff"
      },
      "execution_count": null,
      "outputs": []
    },
    {
      "cell_type": "code",
      "source": [
        "def treino(modelo, trainloader, device):\n",
        "\n",
        "    otimizador = optim.SGD(modelo.parameters(), lr=0.01, momentum=0.5) # Define a politica de atualização de pesos e da Bias\n",
        "    inicio = time() #timer para sabermos quanto tempo levou o treino\n",
        "\n",
        "    criterio = nn.NLLLoss() #definindo o critério para calcular a perda\n",
        "    EPOCHS = 10 # numero de epochs que o algoritmo rodará\n",
        "    modelo.train() #ativando o modo de treinamento do modelo\n",
        "\n",
        "    for epoch in range(EPOCHS):\n",
        "        perda_acumulada = 0 # inicialização da perda acumulada da epoch em questão\n",
        "\n",
        "        for imagens, etiquetas in trainloader:\n",
        "\n",
        "            imagens = imagens.view(imagens.shape[0], -1) #convertendo as imagens para  \"vetores\" de 28*28 casas para ficarem compatíveis com a\n",
        "            otimizador.zero_grad() # zerando os gradientes por conta do ciclo anterior\n",
        "\n",
        "            output = modelo(imagens.to(device)) # colocando os dados no modelo\n",
        "            perda_instantanea = criterio(output, etiquetas.to(device)) # calculando a perda da epoch em questão\n",
        "\n",
        "            perda_instantanea.backward() # back propagation a partir da perda\n",
        "\n",
        "            otimizador.step() #atualizando os pesos e a bias\n",
        "\n",
        "            perda_acumulada += perda_instantanea.item() #atualização da perda acumulada\n",
        "\n",
        "        else:\n",
        "            print(\"Epoch {} -Perda resiltante:{}\".forma(epoch+1, perda_acumulada/len(trainloader)))\n",
        "    print(\"\\nTempo de treino (em minuto) = \", (time()-inicio/60))\n",
        "\n",
        "\n"
      ],
      "metadata": {
        "id": "ZJz2g8pp_eSo"
      },
      "execution_count": null,
      "outputs": []
    },
    {
      "cell_type": "code",
      "source": [
        "def validacao (modelo, valloader, device):\n",
        "  conta_corretas, conta_todas = 0, 0\n",
        "  for imagens, etiquetas in valloader:\n",
        "    for i in range(len(etiquetas)):\n",
        "      img = imagens[i].view(1,784)\n",
        "      #desativar o autograd para acelar a validação. Grafos computacionais dinâmicos tem um custo alto de processamento\n",
        "      with torch.no_grad():\n",
        "          logps = modelo(img.to(device)) #output do modelo em escala logaritmica\n",
        "\n",
        "\n",
        "      ps= torch.exp(logps) # converte output para escala normal(lembrando que é um tensor)\n",
        "      probab = list(ps.cpu().numpy()[0])\n",
        "      etiqueta_pred = probab.index(max(probab)) #converte o tensor em um número, no caso, o número que o modelo previu como correto\n",
        "      etiqueta_certa = etiquetas.numpy()[i]\n",
        "      if (etiqueta_certa == etiqueta_pred): # compara a previsão com o valor correto\n",
        "        conta_corretas += 1\n",
        "      conta_todas +=1\n",
        "\n",
        "  print(\"Total de imagens testadas=\", conta_todas)\n",
        "  print(\"\\nPrecisão do modelo = {}%\".format(conta_corretas*100/conta_todas))"
      ],
      "metadata": {
        "id": "-sR8VLo6GAjQ"
      },
      "execution_count": null,
      "outputs": []
    },
    {
      "cell_type": "code",
      "source": [
        "modelo = Modelo() #inicializa o modelo\n",
        "\n",
        "device = torch.device(\"cuda\" if torch.cuda.is_available() else \"cpu\") # modelo rodará na CPU  se possível\n",
        "modelo.to(device)"
      ],
      "metadata": {
        "id": "SS8MLk7-J3gC"
      },
      "execution_count": null,
      "outputs": []
    }
  ]
}